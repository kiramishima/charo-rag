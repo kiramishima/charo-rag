{
 "cells": [
  {
   "cell_type": "code",
   "execution_count": 6,
   "metadata": {},
   "outputs": [],
   "source": [
    "import pandas as pd\n",
    "import minsearch\n",
    "import json"
   ]
  },
  {
   "cell_type": "code",
   "execution_count": 7,
   "metadata": {},
   "outputs": [
    {
     "data": {
      "text/plain": [
       "{'faq_requisitos': [{'key': '7d4e8f3a1b2c9h5k',\n",
       "   'document': 'requisitos_ciclo_2024.pdf',\n",
       "   'question': '¿Qué documentos necesito entregar para el acta de nacimiento?',\n",
       "   'answer': 'Se requiere el acta de nacimiento original o certificada con código QR, y debe estar actualizada'},\n",
       "  {'key': '9h5k7d4e8f3a1b2c',\n",
       "   'document': 'requisitos_ciclo_2024.pdf',\n",
       "   'question': '¿Qué tipo de identificación oficial es aceptada?',\n",
       "   'answer': 'Se acepta la copia de la credencial INE'},\n",
       "  {'key': '2c9h5k7d4e8f3a1b',\n",
       "   'document': 'requisitos_ciclo_2024.pdf',\n",
       "   'question': '¿Qué características debe tener el CURP que presente?',\n",
       "   'answer': 'Debe ser una CURP impresa de la RENAPO con fecha de emisión no mayor a 3 meses'},\n",
       "  {'key': '5k7d4e8f3a1b2c9h',\n",
       "   'document': 'requisitos_ciclo_2024.pdf',\n",
       "   'question': '¿Qué comprobantes de domicilio son válidos y con qué antigüedad?',\n",
       "   'answer': 'Se aceptan comprobantes de agua, luz, predial, gas o teléfono fijo con antigüedad no mayor a 3 meses. No se aceptan comprobantes bancarios ni de telefonía móvil'},\n",
       "  {'key': '1b2c9h5k7d4e8f3a',\n",
       "   'document': 'requisitos_ciclo_2024.pdf',\n",
       "   'question': 'Si aún no tengo mi certificado de bachillerato, ¿qué puedo presentar?',\n",
       "   'answer': 'Puedes presentar una constancia acompañada del historial académico debidamente sellados y firmados que mencionen la conclusión y acreditación total del bachillerato. No se aceptan constancias con avance inferior al 100%'},\n",
       "  {'key': '4e8f3a1b2c9h5k7d',\n",
       "   'document': 'requisitos_ciclo_2024.pdf',\n",
       "   'question': '¿Qué características deben tener las fotografías?',\n",
       "   'answer': 'Se requieren tres fotografías tamaño infantil, en blanco y negro, sin retoque, con fondo blanco, vestimenta formal, de frente, rostro serio, orejas y frente descubiertos'},\n",
       "  {'key': '3a1b2c9h5k7d4e8f',\n",
       "   'document': 'requisitos_ciclo_2024.pdf',\n",
       "   'question': '¿Cuántas copias necesito del comprobante de inscripción?',\n",
       "   'answer': 'Se requieren dos juegos por ambos lados de todas las hojas del comprobante de inscripción al ciclo escolar 2024-2, incluyendo la hoja denominada acuse de entrega de documentación'},\n",
       "  {'key': '8f3a1b2c9h5k7d4e',\n",
       "   'document': 'requisitos_ciclo_2024.pdf',\n",
       "   'question': '¿Qué autodiagnósticos debo realizar?',\n",
       "   'answer': 'Debes realizar el Autodiagnóstico de Conocimientos Generales y el Autodiagnóstico Médico Automatizado. Ambos podrás realizarlos una vez que estés inscrito'},\n",
       "  {'key': '6k7d4e8f3a1b2c9h',\n",
       "   'document': 'requisitos_ciclo_2024.pdf',\n",
       "   'question': 'Si mi certificado de bachillerato es una copia, ¿cómo debe estar certificada?',\n",
       "   'answer': 'Si presentas una copia del certificado de bachillerato, debe estar certificada ante notario público'},\n",
       "  {'key': '2h5k7d4e8f3a1b2c',\n",
       "   'document': 'requisitos_ciclo_2024.pdf',\n",
       "   'question': '¿En qué momento debo entregar estos documentos?',\n",
       "   'answer': 'Los documentos deberán entregarse en caso de ser admitido al concluir el programa de ingreso a la Universidad Rosario Castellanos'}]}"
      ]
     },
     "execution_count": 7,
     "metadata": {},
     "output_type": "execute_result"
    }
   ],
   "source": [
    "with open(\"../documents/faq_requisitos.json\", \"rb\") as f_out:\n",
    "    data = json.load(f_out)\n"
   ]
  },
  {
   "cell_type": "code",
   "execution_count": 8,
   "metadata": {},
   "outputs": [
    {
     "data": {
      "text/html": [
       "<div>\n",
       "<style scoped>\n",
       "    .dataframe tbody tr th:only-of-type {\n",
       "        vertical-align: middle;\n",
       "    }\n",
       "\n",
       "    .dataframe tbody tr th {\n",
       "        vertical-align: top;\n",
       "    }\n",
       "\n",
       "    .dataframe thead th {\n",
       "        text-align: right;\n",
       "    }\n",
       "</style>\n",
       "<table border=\"1\" class=\"dataframe\">\n",
       "  <thead>\n",
       "    <tr style=\"text-align: right;\">\n",
       "      <th></th>\n",
       "      <th>key</th>\n",
       "      <th>document</th>\n",
       "      <th>question</th>\n",
       "      <th>answer</th>\n",
       "    </tr>\n",
       "  </thead>\n",
       "  <tbody>\n",
       "    <tr>\n",
       "      <th>0</th>\n",
       "      <td>7d4e8f3a1b2c9h5k</td>\n",
       "      <td>requisitos_ciclo_2024.pdf</td>\n",
       "      <td>¿Qué documentos necesito entregar para el acta...</td>\n",
       "      <td>Se requiere el acta de nacimiento original o c...</td>\n",
       "    </tr>\n",
       "    <tr>\n",
       "      <th>1</th>\n",
       "      <td>9h5k7d4e8f3a1b2c</td>\n",
       "      <td>requisitos_ciclo_2024.pdf</td>\n",
       "      <td>¿Qué tipo de identificación oficial es aceptada?</td>\n",
       "      <td>Se acepta la copia de la credencial INE</td>\n",
       "    </tr>\n",
       "    <tr>\n",
       "      <th>2</th>\n",
       "      <td>2c9h5k7d4e8f3a1b</td>\n",
       "      <td>requisitos_ciclo_2024.pdf</td>\n",
       "      <td>¿Qué características debe tener el CURP que pr...</td>\n",
       "      <td>Debe ser una CURP impresa de la RENAPO con fec...</td>\n",
       "    </tr>\n",
       "    <tr>\n",
       "      <th>3</th>\n",
       "      <td>5k7d4e8f3a1b2c9h</td>\n",
       "      <td>requisitos_ciclo_2024.pdf</td>\n",
       "      <td>¿Qué comprobantes de domicilio son válidos y c...</td>\n",
       "      <td>Se aceptan comprobantes de agua, luz, predial,...</td>\n",
       "    </tr>\n",
       "    <tr>\n",
       "      <th>4</th>\n",
       "      <td>1b2c9h5k7d4e8f3a</td>\n",
       "      <td>requisitos_ciclo_2024.pdf</td>\n",
       "      <td>Si aún no tengo mi certificado de bachillerato...</td>\n",
       "      <td>Puedes presentar una constancia acompañada del...</td>\n",
       "    </tr>\n",
       "    <tr>\n",
       "      <th>5</th>\n",
       "      <td>4e8f3a1b2c9h5k7d</td>\n",
       "      <td>requisitos_ciclo_2024.pdf</td>\n",
       "      <td>¿Qué características deben tener las fotografías?</td>\n",
       "      <td>Se requieren tres fotografías tamaño infantil,...</td>\n",
       "    </tr>\n",
       "    <tr>\n",
       "      <th>6</th>\n",
       "      <td>3a1b2c9h5k7d4e8f</td>\n",
       "      <td>requisitos_ciclo_2024.pdf</td>\n",
       "      <td>¿Cuántas copias necesito del comprobante de in...</td>\n",
       "      <td>Se requieren dos juegos por ambos lados de tod...</td>\n",
       "    </tr>\n",
       "    <tr>\n",
       "      <th>7</th>\n",
       "      <td>8f3a1b2c9h5k7d4e</td>\n",
       "      <td>requisitos_ciclo_2024.pdf</td>\n",
       "      <td>¿Qué autodiagnósticos debo realizar?</td>\n",
       "      <td>Debes realizar el Autodiagnóstico de Conocimie...</td>\n",
       "    </tr>\n",
       "    <tr>\n",
       "      <th>8</th>\n",
       "      <td>6k7d4e8f3a1b2c9h</td>\n",
       "      <td>requisitos_ciclo_2024.pdf</td>\n",
       "      <td>Si mi certificado de bachillerato es una copia...</td>\n",
       "      <td>Si presentas una copia del certificado de bach...</td>\n",
       "    </tr>\n",
       "    <tr>\n",
       "      <th>9</th>\n",
       "      <td>2h5k7d4e8f3a1b2c</td>\n",
       "      <td>requisitos_ciclo_2024.pdf</td>\n",
       "      <td>¿En qué momento debo entregar estos documentos?</td>\n",
       "      <td>Los documentos deberán entregarse en caso de s...</td>\n",
       "    </tr>\n",
       "  </tbody>\n",
       "</table>\n",
       "</div>"
      ],
      "text/plain": [
       "                key                   document  \\\n",
       "0  7d4e8f3a1b2c9h5k  requisitos_ciclo_2024.pdf   \n",
       "1  9h5k7d4e8f3a1b2c  requisitos_ciclo_2024.pdf   \n",
       "2  2c9h5k7d4e8f3a1b  requisitos_ciclo_2024.pdf   \n",
       "3  5k7d4e8f3a1b2c9h  requisitos_ciclo_2024.pdf   \n",
       "4  1b2c9h5k7d4e8f3a  requisitos_ciclo_2024.pdf   \n",
       "5  4e8f3a1b2c9h5k7d  requisitos_ciclo_2024.pdf   \n",
       "6  3a1b2c9h5k7d4e8f  requisitos_ciclo_2024.pdf   \n",
       "7  8f3a1b2c9h5k7d4e  requisitos_ciclo_2024.pdf   \n",
       "8  6k7d4e8f3a1b2c9h  requisitos_ciclo_2024.pdf   \n",
       "9  2h5k7d4e8f3a1b2c  requisitos_ciclo_2024.pdf   \n",
       "\n",
       "                                            question  \\\n",
       "0  ¿Qué documentos necesito entregar para el acta...   \n",
       "1   ¿Qué tipo de identificación oficial es aceptada?   \n",
       "2  ¿Qué características debe tener el CURP que pr...   \n",
       "3  ¿Qué comprobantes de domicilio son válidos y c...   \n",
       "4  Si aún no tengo mi certificado de bachillerato...   \n",
       "5  ¿Qué características deben tener las fotografías?   \n",
       "6  ¿Cuántas copias necesito del comprobante de in...   \n",
       "7               ¿Qué autodiagnósticos debo realizar?   \n",
       "8  Si mi certificado de bachillerato es una copia...   \n",
       "9    ¿En qué momento debo entregar estos documentos?   \n",
       "\n",
       "                                              answer  \n",
       "0  Se requiere el acta de nacimiento original o c...  \n",
       "1            Se acepta la copia de la credencial INE  \n",
       "2  Debe ser una CURP impresa de la RENAPO con fec...  \n",
       "3  Se aceptan comprobantes de agua, luz, predial,...  \n",
       "4  Puedes presentar una constancia acompañada del...  \n",
       "5  Se requieren tres fotografías tamaño infantil,...  \n",
       "6  Se requieren dos juegos por ambos lados de tod...  \n",
       "7  Debes realizar el Autodiagnóstico de Conocimie...  \n",
       "8  Si presentas una copia del certificado de bach...  \n",
       "9  Los documentos deberán entregarse en caso de s...  "
      ]
     },
     "execution_count": 8,
     "metadata": {},
     "output_type": "execute_result"
    }
   ],
   "source": [
    "df = pd.DataFrame(data['faq_requisitos'])\n",
    "df"
   ]
  },
  {
   "cell_type": "code",
   "execution_count": 9,
   "metadata": {},
   "outputs": [
    {
     "data": {
      "text/plain": [
       "Index(['key', 'document', 'question', 'answer'], dtype='object')"
      ]
     },
     "execution_count": 9,
     "metadata": {},
     "output_type": "execute_result"
    }
   ],
   "source": [
    "df.columns"
   ]
  },
  {
   "cell_type": "code",
   "execution_count": 10,
   "metadata": {},
   "outputs": [],
   "source": [
    "index = minsearch.Index(\n",
    "    text_fields=['key', 'document', 'question', 'answer'],\n",
    "    keyword_fields=['key']\n",
    ")"
   ]
  },
  {
   "cell_type": "code",
   "execution_count": 11,
   "metadata": {},
   "outputs": [
    {
     "data": {
      "text/plain": [
       "<minsearch.Index at 0x21767680530>"
      ]
     },
     "execution_count": 11,
     "metadata": {},
     "output_type": "execute_result"
    }
   ],
   "source": [
    "documents = df.to_dict(orient='records')\n",
    "index.fit(documents)"
   ]
  },
  {
   "cell_type": "code",
   "execution_count": 13,
   "metadata": {},
   "outputs": [
    {
     "name": "stdout",
     "output_type": "stream",
     "text": [
      "¿Qué características deben tener las fotografías?\n",
      "¿Qué características debe tener el CURP que presente?\n",
      "¿Cuántas copias necesito del comprobante de inscripción?\n",
      "¿Qué comprobantes de domicilio son válidos y con qué antigüedad?\n",
      "¿Qué autodiagnósticos debo realizar?\n",
      "¿Qué tipo de identificación oficial es aceptada?\n",
      "¿En qué momento debo entregar estos documentos?\n",
      "¿Qué documentos necesito entregar para el acta de nacimiento?\n",
      "Si aún no tengo mi certificado de bachillerato, ¿qué puedo presentar?\n"
     ]
    }
   ],
   "source": [
    "query = '¿Qué características deben tener las fotografías?'\n",
    "result = index.search(query, num_results=10)\n",
    "for r in result:\n",
    "    print(r['question'])"
   ]
  }
 ],
 "metadata": {
  "kernelspec": {
   "display_name": "llm-charo",
   "language": "python",
   "name": "python3"
  },
  "language_info": {
   "codemirror_mode": {
    "name": "ipython",
    "version": 3
   },
   "file_extension": ".py",
   "mimetype": "text/x-python",
   "name": "python",
   "nbconvert_exporter": "python",
   "pygments_lexer": "ipython3",
   "version": "3.12.7"
  }
 },
 "nbformat": 4,
 "nbformat_minor": 2
}
